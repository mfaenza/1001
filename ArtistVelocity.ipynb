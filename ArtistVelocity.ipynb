{
 "cells": [
  {
   "cell_type": "code",
   "execution_count": 20,
   "metadata": {},
   "outputs": [],
   "source": [
    "import time\n",
    "import datetime\n",
    "import pymongo\n",
    "\n",
    "import pandas as pd\n",
    "from dateutil.parser import parse"
   ]
  },
  {
   "cell_type": "code",
   "execution_count": 4,
   "metadata": {},
   "outputs": [],
   "source": [
    "myclient = pymongo.MongoClient(\"mongodb://localhost:27017/\")\n",
    "db = myclient['1001']\n",
    "tracklist_collection = db['tracklist_docs']"
   ]
  },
  {
   "cell_type": "code",
   "execution_count": 12,
   "metadata": {},
   "outputs": [],
   "source": [
    "tracklist_date_hash = {}\n",
    "for page in tracklist_collection.find({}):\n",
    "    tracklist_date_hash[page['url']] = parse(page['created'])"
   ]
  },
  {
   "cell_type": "code",
   "execution_count": 13,
   "metadata": {},
   "outputs": [
    {
     "name": "stdout",
     "output_type": "stream",
     "text": [
      "73105\n"
     ]
    }
   ],
   "source": [
    "print(len(list(tracklist_date_hash.keys())))"
   ]
  },
  {
   "cell_type": "code",
   "execution_count": 83,
   "metadata": {
    "scrolled": true
   },
   "outputs": [
    {
     "name": "stdout",
     "output_type": "stream",
     "text": [
      "100000\n",
      "200000\n",
      "300000\n",
      "400000\n",
      "500000\n",
      "600000\n",
      "700000\n",
      "800000\n",
      "900000\n",
      "1000000\n",
      "1100000\n",
      "1200000\n",
      "1300000\n",
      "1400000\n"
     ]
    }
   ],
   "source": [
    "count = 0\n",
    "artist_counts = {}\n",
    "for track in db['sequential_docs_fixed'].find({}):\n",
    "    \n",
    "    count += 1\n",
    "    if count % 100000 == 0: print(count)\n",
    "    artist_counts[track['track1_artist']] = artist_counts.get(track['track1_artist'], 0) + 1\n",
    "    artist_counts[track['track2_artist']] = artist_counts.get(track['track2_artist'], 0) + 1\n"
   ]
  },
  {
   "cell_type": "code",
   "execution_count": null,
   "metadata": {},
   "outputs": [],
   "source": [
    "print(len(ordered_artists))\n",
    "ordered_artists"
   ]
  },
  {
   "cell_type": "code",
   "execution_count": null,
   "metadata": {
    "scrolled": true
   },
   "outputs": [],
   "source": [
    "import pytz\n",
    "\n",
    "def objective_function(array):\n",
    "    \n",
    "    obj = 0\n",
    "    array = array[::-1]\n",
    "    for i in range(len(array)-1):\n",
    "        for j in range(i,len(array)):\n",
    "             obj += array[i] - array[j]\n",
    "    return obj\n",
    "\n",
    "\n",
    "velocity_docs = []\n",
    "ordered_artists = sorted(list(artist_counts.items()), key=lambda x: x[1], reverse=True)\n",
    "for artist, count in ordered_artists[:]:\n",
    "    \n",
    "    print(artist, count)\n",
    "    artist_docs = []\n",
    "    \n",
    "    for track in db['sequential_docs_fixed'].find({}):\n",
    "        \n",
    "        if track['track1_artist'] == artist or track['track2_artist'] == artist:\n",
    "\n",
    "            artist_docs.append(\\\n",
    "                              {\n",
    "                              'artist': artist,\n",
    "                              'url': track['url'],\n",
    "                              'date': tracklist_date_hash.get(track['url'], None),\n",
    "                              }\n",
    "                            )\n",
    "   \n",
    "    artist_df = pd.DataFrame(artist_docs)\n",
    "    artist_df = artist_df.drop_duplicates()\n",
    "    artist_df.dropna(inplace=True)\n",
    "    artist_df.date = artist_df.apply(lambda x: x['date'].replace(tzinfo=pytz.UTC), axis=1)\n",
    "    print(len(artist_df))\n",
    "    \n",
    "    artist_df.index = artist_df.date\n",
    "    artist_df = artist_df.resample('M').count()\n",
    "    artist_df.ffill(inplace=True)\n",
    "    print(len(artist_df))\n",
    "    \n",
    "    artist_df['pct_change'] = artist_df['date'].pct_change()\n",
    "    artist_df['smooth'] = artist_df['date'].rolling(window=6).mean()\n",
    "    artist_df['artist_velocity'] = artist_df['smooth'].rolling(window=6)\\\n",
    "                                                      .apply(lambda x: objective_function(x))\n",
    "    velocity_docs.extend(artist_df.to_dict('records'))"
   ]
  },
  {
   "cell_type": "code",
   "execution_count": 106,
   "metadata": {},
   "outputs": [
    {
     "name": "stdout",
     "output_type": "stream",
     "text": [
      "1522368\n"
     ]
    }
   ],
   "source": [
    "print(len(velocity_docs))"
   ]
  },
  {
   "cell_type": "code",
   "execution_count": null,
   "metadata": {},
   "outputs": [],
   "source": []
  }
 ],
 "metadata": {
  "kernelspec": {
   "display_name": "Python 3",
   "language": "python",
   "name": "python3"
  },
  "language_info": {
   "codemirror_mode": {
    "name": "ipython",
    "version": 3
   },
   "file_extension": ".py",
   "mimetype": "text/x-python",
   "name": "python",
   "nbconvert_exporter": "python",
   "pygments_lexer": "ipython3",
   "version": "3.5.2"
  }
 },
 "nbformat": 4,
 "nbformat_minor": 2
}
